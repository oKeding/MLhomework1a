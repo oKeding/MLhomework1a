{
 "cells": [
  {
   "cell_type": "code",
   "execution_count": 35,
   "metadata": {},
   "outputs": [
    {
     "name": "stderr",
     "output_type": "stream",
     "text": [
      "/opt/anaconda3/lib/python3.7/site-packages/ipykernel_launcher.py:18: FutureWarning: Method .as_matrix will be removed in a future version. Use .values instead.\n"
     ]
    }
   ],
   "source": [
    "from sklearn.linear_model import Ridge\n",
    "from sklearn.model_selection import cross_val_score, train_test_split\n",
    "import numpy as np\n",
    "import pandas as pd\n",
    "pd.__version__\n",
    "\n",
    "input_file = \"train.csv\"\n",
    "\n",
    "# comma delimited is the default\n",
    "df = pd.read_csv(input_file, header = 0)\n",
    "# put the original column names in a python list\n",
    "original_headers = list(df.columns.values)\n",
    "# remove the non-numeric columns\n",
    "df = df._get_numeric_data()\n",
    "# put the numeric column names in a python list\n",
    "numeric_headers = list(df.columns.values)\n",
    "# create a numpy array with the numeric values for input into scikit-learn\n",
    "data = df.as_matrix()\n",
    "\n",
    "x = numpy_array[:, 2:]\n",
    "y = numpy_array[:, 1:2]\n",
    "\n",
    "n = len(data)\n",
    "folds = 10\n",
    "lambdas = [0.01, 0.1, 1, 10, 100]\n"
   ]
  },
  {
   "cell_type": "code",
   "execution_count": 42,
   "metadata": {},
   "outputs": [
    {
     "name": "stdout",
     "output_type": "stream",
     "text": [
      "0.6639584854705927\n",
      "lambda= 0.01 :\n",
      "[0.51496686 0.6394889  0.79090496 0.77003497 0.53385802 0.76703617\n",
      " 0.77253651 0.58766932 0.85605735 0.79393513]\n",
      "lambda= 0.1 :\n",
      "[0.51352039 0.64013853 0.79078804 0.77168947 0.53173886 0.76825339\n",
      " 0.7717625  0.58724429 0.85574165 0.79488959]\n",
      "lambda= 1 :\n",
      "[0.50304532 0.64160441 0.78926596 0.77988029 0.51745042 0.77339364\n",
      " 0.76587043 0.58318472 0.85290714 0.79678271]\n",
      "lambda= 10 :\n",
      "[0.48865712 0.63118294 0.78642421 0.78223396 0.50986739 0.77787018\n",
      " 0.75732903 0.57652093 0.84191053 0.78438766]\n",
      "lambda= 100 :\n",
      "[0.50441173 0.57432631 0.78415784 0.75108453 0.55732281 0.76979307\n",
      " 0.75361814 0.5940691  0.80372835 0.74255598]\n"
     ]
    }
   ],
   "source": [
    "X_train, X_test, y_train, y_test = train_test_split(x, y, test_size=0.4, random_state=0)\n",
    "clf = Ridge(1)\n",
    "clf.fit(X_train, y_train)\n",
    "print(clf.score(X_test, y_test))\n",
    "\n",
    "for l in lambdas:\n",
    "    print(\"lambda =\", l, \":\")\n",
    "    clf = Ridge(l)\n",
    "    scores = cross_val_score(clf, x, y, cv=folds)\n",
    "    print(scores)\n"
   ]
  },
  {
   "cell_type": "code",
   "execution_count": null,
   "metadata": {},
   "outputs": [],
   "source": []
  }
 ],
 "metadata": {
  "kernelspec": {
   "display_name": "Python 3",
   "language": "python",
   "name": "python3"
  },
  "language_info": {
   "codemirror_mode": {
    "name": "ipython",
    "version": 3
   },
   "file_extension": ".py",
   "mimetype": "text/x-python",
   "name": "python",
   "nbconvert_exporter": "python",
   "pygments_lexer": "ipython3",
   "version": "3.7.4"
  }
 },
 "nbformat": 4,
 "nbformat_minor": 4
}
