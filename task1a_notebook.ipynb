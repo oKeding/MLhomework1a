{
 "cells": [
  {
   "cell_type": "code",
   "execution_count": 103,
   "metadata": {},
   "outputs": [
    {
     "name": "stderr",
     "output_type": "stream",
     "text": [
      "/opt/anaconda3/lib/python3.7/site-packages/ipykernel_launcher.py:19: FutureWarning: Method .as_matrix will be removed in a future version. Use .values instead.\n"
     ]
    }
   ],
   "source": [
    "import numpy as np\n",
    "import pandas as pd\n",
    "from matplotlib import pyplot as plt\n",
    "from sklearn.linear_model import Ridge\n",
    "from sklearn.model_selection import cross_val_score, cross_validate, train_test_split\n",
    "from sklearn.metrics import make_scorer, mean_squared_error\n",
    "\n",
    "input_file = \"train.csv\"\n",
    "\n",
    "# comma delimited is the default\n",
    "df = pd.read_csv(input_file, header = 0)\n",
    "# put the original column names in a python list\n",
    "original_headers = list(df.columns.values)\n",
    "# remove the non-numeric columns\n",
    "df = df._get_numeric_data()\n",
    "# put the numeric column names in a python list\n",
    "numeric_headers = list(df.columns.values)\n",
    "# create a numpy array with the numeric values for input into scikit-learn\n",
    "data = df.as_matrix()\n",
    "\n",
    "x = data[:, 2:]\n",
    "y = data[:, 1:2]\n",
    "\n",
    "n = len(data)\n",
    "folds = 10\n",
    "lambdas = [0.01, 0.1, 1, 10, 100]\n"
   ]
  },
  {
   "cell_type": "code",
   "execution_count": 107,
   "metadata": {},
   "outputs": [
    {
     "name": "stdout",
     "output_type": "stream",
     "text": [
      "0.6639584854705927\n",
      "lambda = 0.01 :\n",
      "Coefficients:\n",
      "[[-1.13420792e-01  3.61779729e-02  6.39812676e-03  2.20046137e+00\n",
      "  -1.58207058e+01  4.26312545e+00 -1.02129887e-02 -1.34528676e+00\n",
      "   2.70319222e-01 -1.16372628e-02 -1.01673938e+00  9.91537722e-03\n",
      "  -4.44710305e-01]]\n",
      "[[-1.08099461e-01  5.60494564e-02  2.19502537e-02  2.79264344e+00\n",
      "  -1.85041633e+01  3.23752441e+00  8.90081708e-03 -1.54014437e+00\n",
      "   2.82436189e-01 -1.17736261e-02 -9.72562311e-01  7.70698938e-03\n",
      "  -5.79284098e-01]]\n",
      "[[-1.06666763e-01  4.53501029e-02  1.93076194e-02  2.82217596e+00\n",
      "  -1.75658243e+01  3.89283271e+00 -3.95103704e-03 -1.55419559e+00\n",
      "   3.17460642e-01 -1.26284752e-02 -9.35105969e-01  8.30246125e-03\n",
      "  -5.39033090e-01]]\n",
      "[[-1.02241810e-01  5.57426792e-02  5.93855883e-02  2.62447987e+00\n",
      "  -1.95989824e+01  3.46935002e+00  3.97630833e-03 -1.53368242e+00\n",
      "   3.13002034e-01 -1.25613589e-02 -9.96781005e-01  9.08018315e-03\n",
      "  -5.54439136e-01]]\n",
      "[[-1.19140238e-01  4.62432148e-02  1.59370720e-02  3.34909500e+00\n",
      "  -1.60645573e+01  4.07469164e+00  4.27292483e-04 -1.46319479e+00\n",
      "   3.06691710e-01 -1.10590300e-02 -9.21052601e-01  1.10834117e-02\n",
      "  -5.41011178e-01]]\n",
      "[[-1.05118991e-01  3.83091271e-02  5.78778001e-03  3.19505868e+00\n",
      "  -1.86551620e+01  3.95280690e+00  3.13027557e-03 -1.47222534e+00\n",
      "   3.13153435e-01 -1.27441313e-02 -9.72262141e-01  9.71939581e-03\n",
      "  -5.04919178e-01]]\n",
      "[[-8.58459499e-02  5.09829398e-02  1.18426154e-02  3.04643461e+00\n",
      "  -1.67646423e+01  3.82339451e+00  6.52781856e-04 -1.49329695e+00\n",
      "   2.81071796e-01 -1.14030287e-02 -8.95050209e-01  1.07331973e-02\n",
      "  -5.29843812e-01]]\n",
      "[[-1.01672472e-01  4.43545557e-02  2.77867537e-02  2.18679117e+00\n",
      "  -1.72730352e+01  4.20806078e+00 -4.36506978e-03 -1.43772895e+00\n",
      "   2.98214604e-01 -1.23603175e-02 -9.59774191e-01  9.54851427e-03\n",
      "  -4.82239997e-01]]\n",
      "[[-1.06261682e-01  4.35373072e-02  2.94023467e-02  2.13674384e+00\n",
      "  -1.69999246e+01  3.51070308e+00  6.76706726e-04 -1.37623999e+00\n",
      "   3.14568505e-01 -1.34299616e-02 -8.74033068e-01  9.16937423e-03\n",
      "  -5.33338481e-01]]\n",
      "[[-1.10633166e-01  4.53255438e-02  9.31566940e-04  2.51984805e+00\n",
      "  -1.88268132e+01  3.64915587e+00  4.76222326e-03 -1.50674965e+00\n",
      "   3.47093508e-01 -1.37541065e-02 -9.76608303e-01  9.16863646e-03\n",
      "  -5.42098293e-01]]\n",
      "Train MSEs:\n"
     ]
    },
    {
     "ename": "KeyError",
     "evalue": "'train_score'",
     "output_type": "error",
     "traceback": [
      "\u001b[0;31m---------------------------------------------------------------------------\u001b[0m",
      "\u001b[0;31mKeyError\u001b[0m                                  Traceback (most recent call last)",
      "\u001b[0;32m<ipython-input-107-1d5ec4f056aa>\u001b[0m in \u001b[0;36m<module>\u001b[0;34m\u001b[0m\n\u001b[1;32m     21\u001b[0m \u001b[0;34m\u001b[0m\u001b[0m\n\u001b[1;32m     22\u001b[0m     \u001b[0mprint\u001b[0m\u001b[0;34m(\u001b[0m\u001b[0;34m\"Train MSEs:\"\u001b[0m\u001b[0;34m)\u001b[0m\u001b[0;34m\u001b[0m\u001b[0;34m\u001b[0m\u001b[0m\n\u001b[0;32m---> 23\u001b[0;31m     \u001b[0mMSEs\u001b[0m \u001b[0;34m=\u001b[0m \u001b[0mcv_results\u001b[0m\u001b[0;34m[\u001b[0m\u001b[0;34m'train_score'\u001b[0m\u001b[0;34m]\u001b[0m\u001b[0;34m\u001b[0m\u001b[0;34m\u001b[0m\u001b[0m\n\u001b[0m\u001b[1;32m     24\u001b[0m \u001b[0;34m\u001b[0m\u001b[0m\n\u001b[1;32m     25\u001b[0m     \u001b[0mprint\u001b[0m\u001b[0;34m(\u001b[0m\u001b[0;34m\"Test MSEs:\"\u001b[0m\u001b[0;34m)\u001b[0m\u001b[0;34m\u001b[0m\u001b[0;34m\u001b[0m\u001b[0m\n",
      "\u001b[0;31mKeyError\u001b[0m: 'train_score'"
     ]
    }
   ],
   "source": [
    "mse = make_scorer(mean_squared_error)\n",
    "\n",
    "# Test with just splitting data for comparison:\n",
    "X_train, X_test, y_train, y_test = train_test_split(x, y, test_size=0.4, random_state=0)\n",
    "clf = Ridge(1)\n",
    "clf.fit(X_train, y_train)\n",
    "print(clf.score(X_test, y_test))\n",
    "\n",
    "# Do 10-fold cross validation and calculate average RMSE for each lambda:\n",
    "clf = Ridge()\n",
    "for l in lambdas:\n",
    "    print(\"lambda =\", l, \":\")\n",
    "    clf.set_params(alpha=l)\n",
    "    #R2s = cross_val_score(clf, x, y, cv=folds)\n",
    "    #MSEs = cross_val_score(clf, x, y, cv=folds, scoring=mse)\n",
    "    cv_results = cross_validate(clf, x, y, cv=folds, scoring=mse, return_estimator=True)\n",
    "    \n",
    "    print(\"Coefficients:\")\n",
    "    for model in cv_results['estimator']:\n",
    "        print(model.coef_)\n",
    "    \n",
    "    print(\"Test MSEs:\")\n",
    "    MSEs = cv_results['test_score']\n",
    "    \n",
    "    RMSEs = np.sqrt(MSEs)\n",
    "    print(\"MSEs:\", MSEs)\n",
    "    print(\"RMSEs:\", RMSEs)\n",
    "    print(\"Average RMSE:\", RMSEs.mean())\n",
    "    #print(\"Accuracy: %0.2f (+/- %0.2f)\" % (scores.mean(), scores.std() * 2))\n",
    "    print()\n"
   ]
  },
  {
   "cell_type": "code",
   "execution_count": null,
   "metadata": {},
   "outputs": [],
   "source": []
  },
  {
   "cell_type": "code",
   "execution_count": null,
   "metadata": {},
   "outputs": [],
   "source": []
  }
 ],
 "metadata": {
  "kernelspec": {
   "display_name": "Python 3",
   "language": "python",
   "name": "python3"
  },
  "language_info": {
   "codemirror_mode": {
    "name": "ipython",
    "version": 3
   },
   "file_extension": ".py",
   "mimetype": "text/x-python",
   "name": "python",
   "nbconvert_exporter": "python",
   "pygments_lexer": "ipython3",
   "version": "3.7.4"
  }
 },
 "nbformat": 4,
 "nbformat_minor": 4
}
